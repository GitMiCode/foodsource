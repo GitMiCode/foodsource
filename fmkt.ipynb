{
 "cells": [
  {
   "cell_type": "code",
   "execution_count": 8,
   "id": "662d3f0d",
   "metadata": {},
   "outputs": [
    {
     "name": "stdout",
     "output_type": "stream",
     "text": [
      "\n",
      "\n",
      "Enter zip code: 40291\n",
      "** JSONP results from WSDL service with SOAP request for zip 40291 ** \n",
      "_________________________________\n",
      "** Closest Local farmers market for zip code 40291 **\n",
      "5.1 Jeffersontown Farmers Market\n",
      "_________________________________\n",
      " \n",
      "** Distance to Local farmers market in your area for zip code 40291 **\n",
      "5.1 Jeffersontown Farmers Market\n",
      "8.5 middletown farmer's Market\n",
      "9.3 St. Matthews Farmers Market\n",
      "11.3 Westport Rd Baptist Farmers Market\n",
      "11.5 Shepherdsville farmer's Market\n",
      "11.7 Phoenix Hill NuLu Farmers' Market\n",
      "12.0 The East End Farmer’s Market\n",
      "12.2 Mt.Washington Farmer's Market \n",
      "14.8 Taylorsville Farmers Market Inc.\n",
      "17.0 Prospect Area Farmer's Market\n",
      "21.2 Floyd County Farmers Market (Floyds Knobs)\n",
      "22.6 La Grange Farmers' Market & Artisans\n",
      "32.8 Meade County Farmers Market\n",
      "36.6 Farmers Market at the Depot\n",
      "36.7 Anderson County Farmers Market \n",
      "38.9 Franklin County Farmers Market\n",
      "43.8 Farmers Market of Madison, IN\n",
      "46.8 Woodford County Farmers' Market\n",
      "49.3 Woodford County Farmers Market\n",
      "\n",
      "\n"
     ]
    }
   ],
   "source": [
    "import requests\n",
    "\n",
    "print(\"\\n\")\n",
    "zip = input(\"Enter zip code: \")\n",
    "#print(\"\\n\")\n",
    "print(\"** JSONP results from WSDL service with SOAP request for zip \" + zip + \" ** \")\n",
    "print(\"_________________________________\" )\n",
    "url=\"http://search.ams.usda.gov/farmersmarkets/v1/data.svc/zipSearch?zip=\" + zip\n",
    "#headers = {'content-type': 'application/soap+xml'}\n",
    "headers = {'content-type': 'text/xml'}\n",
    "body = \"\"\"<?xml version=\"1.0\" encoding=\"UTF-8\"?>\n",
    "         <SOAP-ENV:Envelope xmlns:ns0=\"http://ws.cdyne.com/WeatherWS/\" xmlns:ns1=\"http://schemas.xmlsoap.org/soap/envelope/\" \n",
    "            xmlns:xsi=\"http://www.w3.org/2001/XMLSchema-instance\" xmlns:SOAP-ENV=\"http://schemas.xmlsoap.org/soap/envelope/\">\n",
    "            <SOAP-ENV:Header/>\n",
    "              <ns1:Body><ns0:GetWeatherInformation/></ns1:Body>\n",
    "         </SOAP-ENV:Envelope>\"\"\"\n",
    "\"\"\" response = requests.post(url,data=body,headers=headers)\n",
    "print(response.content) \"\"\"\n",
    "\n",
    "request = requests.get(url)\n",
    "json = request.json()\n",
    "#print(\"\\n\")\n",
    "print(\"** Closest Local farmers market for zip code \" +  zip +\" **\" )\n",
    "print (json.get('results')[0].get(\"marketname\"))\n",
    "print(\"_________________________________\" )\n",
    "print(\" \")\n",
    "print(\"** Distance to Local farmers market in your area for zip code \" +  zip +\" **\")\n",
    "for markets in json['results']:\n",
    "   print(markets['marketname'])\n",
    "   #print(markets)\n",
    "   spaceString = markets['marketname']\n",
    "print(\"\\n\")\n",
    "\n",
    "\n",
    "\n"
   ]
  },
  {
   "cell_type": "code",
   "execution_count": null,
   "id": "05aa8b3b",
   "metadata": {},
   "outputs": [],
   "source": []
  }
 ],
 "metadata": {
  "kernelspec": {
   "display_name": "Python 3 (ipykernel)",
   "language": "python",
   "name": "python3"
  },
  "language_info": {
   "codemirror_mode": {
    "name": "ipython",
    "version": 3
   },
   "file_extension": ".py",
   "mimetype": "text/x-python",
   "name": "python",
   "nbconvert_exporter": "python",
   "pygments_lexer": "ipython3",
   "version": "3.9.7"
  }
 },
 "nbformat": 4,
 "nbformat_minor": 5
}
